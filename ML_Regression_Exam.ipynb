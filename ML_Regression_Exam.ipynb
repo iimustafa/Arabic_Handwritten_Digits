{
  "nbformat": 4,
  "nbformat_minor": 0,
  "metadata": {
    "colab": {
      "provenance": [],
      "include_colab_link": true
    },
    "kernelspec": {
      "name": "python3",
      "display_name": "Python 3"
    },
    "language_info": {
      "name": "python"
    }
  },
  "cells": [
    {
      "cell_type": "markdown",
      "metadata": {
        "id": "view-in-github",
        "colab_type": "text"
      },
      "source": [
        "<a href=\"https://colab.research.google.com/github/iimustafa/Arabic_Handwritten_Digits/blob/main/ML_Regression_Exam.ipynb\" target=\"_parent\"><img src=\"https://colab.research.google.com/assets/colab-badge.svg\" alt=\"Open In Colab\"/></a>"
      ]
    },
    {
      "cell_type": "markdown",
      "source": [
        "# Machine learning (Regression) Exam question\n",
        "\n",
        "## Problem Statement\n",
        "In this task, you are provided with a dataset that includes several features, which includes the `Temperature`, `Humadity`, and `Soil_moisture`  used to predict the `Growth`. Your task is to clean, visualize and apply a machine learning model to accurately predict this outcome and evaluate the performance of your model. Don't forget Your targted column is the `Growth` column."
      ],
      "metadata": {
        "id": "fJMZrpHNpmYz"
      }
    },
    {
      "cell_type": "markdown",
      "source": [
        "# Step 1: Import necessary libraries"
      ],
      "metadata": {
        "id": "Nhubrzm4oaON"
      }
    },
    {
      "cell_type": "code",
      "source": [
        "import pandas as pd\n",
        "import numpy as np\n",
        "import matplotlib.pyplot as plt\n",
        "import seaborn as sns\n",
        "from sklearn.model_selection import train_test_split, cross_val_score\n",
        "from sklearn.preprocessing import StandardScaler\n",
        "from sklearn.ensemble import RandomForestClassifier\n",
        "from sklearn.metrics import accuracy_score, classification_report, confusion_matrix\n"
      ],
      "metadata": {
        "id": "UrvLSWd-iDZi"
      },
      "execution_count": null,
      "outputs": []
    },
    {
      "cell_type": "markdown",
      "source": [
        "# Step 2: Read the dataset"
      ],
      "metadata": {
        "id": "IAKo3X8pofld"
      }
    },
    {
      "cell_type": "code",
      "source": [],
      "metadata": {
        "id": "oZj9UfnujkAa"
      },
      "execution_count": null,
      "outputs": []
    },
    {
      "cell_type": "markdown",
      "source": [
        "# Step 3: Explore the Dataset"
      ],
      "metadata": {
        "id": "sZnulp5-oj5F"
      }
    },
    {
      "cell_type": "code",
      "source": [],
      "metadata": {
        "id": "OnyYaPzAfhuy"
      },
      "execution_count": null,
      "outputs": []
    },
    {
      "cell_type": "markdown",
      "source": [
        "# Step 4: Preprocess the dataset (if needed)"
      ],
      "metadata": {
        "id": "YAjV5IKVowRu"
      }
    },
    {
      "cell_type": "code",
      "source": [],
      "metadata": {
        "id": "02mwXnajfkUZ"
      },
      "execution_count": null,
      "outputs": []
    },
    {
      "cell_type": "markdown",
      "source": [
        "# Step 5: Visualize your Dataset"
      ],
      "metadata": {
        "id": "mw-JaYolpLKY"
      }
    },
    {
      "cell_type": "code",
      "source": [],
      "metadata": {
        "id": "bsOXEbaKpK5f"
      },
      "execution_count": null,
      "outputs": []
    },
    {
      "cell_type": "markdown",
      "source": [
        "# Step 6: Train your model"
      ],
      "metadata": {
        "id": "2DOkD_gzo1Bo"
      }
    },
    {
      "cell_type": "code",
      "source": [],
      "metadata": {
        "id": "9hyd2_Wjfmou"
      },
      "execution_count": null,
      "outputs": []
    },
    {
      "cell_type": "markdown",
      "source": [
        "# Step 7: Cross-validate and test your model"
      ],
      "metadata": {
        "id": "HsEuUbk_o5_f"
      }
    },
    {
      "cell_type": "code",
      "source": [],
      "metadata": {
        "id": "fLlw691xmCS9"
      },
      "execution_count": null,
      "outputs": []
    }
  ]
}